{
  "nbformat": 4,
  "nbformat_minor": 0,
  "metadata": {
    "colab": {
      "name": "Untitled0.ipynb",
      "version": "0.3.2",
      "provenance": [],
      "collapsed_sections": [],
      "include_colab_link": true
    },
    "kernelspec": {
      "name": "python2",
      "display_name": "Python 2"
    }
  },
  "cells": [
    {
      "cell_type": "markdown",
      "metadata": {
        "id": "view-in-github",
        "colab_type": "text"
      },
      "source": [
        "<a href=\"https://colab.research.google.com/github/Aithu-Snehith/testing-colab/blob/master/mnist_keras.ipynb\" target=\"_parent\"><img src=\"https://colab.research.google.com/assets/colab-badge.svg\" alt=\"Open In Colab\"/></a>"
      ]
    },
    {
      "metadata": {
        "id": "qBiNiVBdeBUi",
        "colab_type": "code",
        "outputId": "ad53eceb-d7e3-4f41-e313-8f9c16fc1af1",
        "colab": {
          "base_uri": "https://localhost:8080/",
          "height": 287
        }
      },
      "cell_type": "code",
      "source": [
        "import tensorflow as tf\n",
        "mnist = tf.keras.datasets.mnist\n",
        "\n",
        "(x_train, y_train),(x_test, y_test) = mnist.load_data()\n",
        "x_train, x_test = x_train / 255.0, x_test / 255.0\n",
        "\n",
        "model = tf.keras.models.Sequential([\n",
        "  tf.keras.layers.Flatten(),\n",
        "  tf.keras.layers.Dense(512, activation=tf.nn.relu),\n",
        "  tf.keras.layers.Dropout(0.2),\n",
        "  tf.keras.layers.Dense(10, activation=tf.nn.softmax)\n",
        "])\n",
        "model.compile(optimizer='adam',\n",
        "              loss='sparse_categorical_crossentropy',\n",
        "              metrics=['accuracy'])\n",
        "\n",
        "model.fit(x_train, y_train, epochs=5)\n",
        "model.evaluate(x_test, y_test)"
      ],
      "execution_count": 3,
      "outputs": [
        {
          "output_type": "stream",
          "text": [
            "Downloading data from https://storage.googleapis.com/tensorflow/tf-keras-datasets/mnist.npz\n",
            "11493376/11490434 [==============================] - 0s 0us/step\n",
            "11501568/11490434 [==============================] - 0s 0us/step\n",
            "Epoch 1/5\n",
            "60000/60000 [==============================] - 14s 233us/step - loss: 0.2023 - acc: 0.9403\n",
            "Epoch 2/5\n",
            "60000/60000 [==============================] - 13s 224us/step - loss: 0.0818 - acc: 0.9742\n",
            "Epoch 3/5\n",
            "60000/60000 [==============================] - 13s 223us/step - loss: 0.0527 - acc: 0.9834\n",
            "Epoch 4/5\n",
            "60000/60000 [==============================] - 14s 227us/step - loss: 0.0377 - acc: 0.9880\n",
            "Epoch 5/5\n",
            "60000/60000 [==============================] - 13s 224us/step - loss: 0.0280 - acc: 0.9908\n",
            "10000/10000 [==============================] - 1s 51us/step\n"
          ],
          "name": "stdout"
        },
        {
          "output_type": "execute_result",
          "data": {
            "text/plain": [
              "[0.06686363528863876, 0.9801]"
            ]
          },
          "metadata": {
            "tags": []
          },
          "execution_count": 3
        }
      ]
    },
    {
      "metadata": {
        "id": "ZaWfL0QR-8-T",
        "colab_type": "code",
        "colab": {
          "base_uri": "https://localhost:8080/",
          "height": 251
        },
        "outputId": "081c1c01-1b71-4caf-f734-0f4992a2487f"
      },
      "cell_type": "code",
      "source": [
        "print(model.predict(x_test))"
      ],
      "execution_count": 4,
      "outputs": [
        {
          "output_type": "stream",
          "text": [
            "[[2.1300210e-10 2.6177330e-10 1.2630451e-07 ... 9.9999905e-01\n",
            "  1.8193912e-08 4.7767095e-08]\n",
            " [8.7319431e-12 8.3061842e-08 9.9999988e-01 ... 2.3049350e-15\n",
            "  1.8094337e-11 8.8770662e-16]\n",
            " [1.7897392e-08 9.9987674e-01 2.9375804e-05 ... 5.8464237e-05\n",
            "  2.6462529e-05 2.1540386e-07]\n",
            " ...\n",
            " [1.1670581e-15 6.2451988e-10 4.8283757e-13 ... 1.1675198e-06\n",
            "  4.8453721e-08 3.2218290e-07]\n",
            " [5.9492251e-09 2.1034162e-10 5.8883141e-11 ... 1.3181473e-08\n",
            "  4.6363290e-05 1.7816824e-11]\n",
            " [2.7331340e-12 1.8472219e-13 4.7948631e-11 ... 4.2575481e-13\n",
            "  4.2963088e-11 7.3757962e-14]]\n"
          ],
          "name": "stdout"
        }
      ]
    },
    {
      "metadata": {
        "id": "dy-1zV5kAnOt",
        "colab_type": "code",
        "colab": {}
      },
      "cell_type": "code",
      "source": [
        ""
      ],
      "execution_count": 0,
      "outputs": []
    }
  ]
}